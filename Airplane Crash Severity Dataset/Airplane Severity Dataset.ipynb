{
 "cells": [
  {
   "cell_type": "markdown",
   "metadata": {
    "colab_type": "text",
    "id": "BJ3oTKfzIkUn"
   },
   "source": [
    "# Airplane Severity Dataset"
   ]
  },
  {
   "cell_type": "markdown",
   "metadata": {
    "colab_type": "text",
    "id": "w0Cir5fVF17-"
   },
   "source": [
    "## Importing the libraries"
   ]
  },
  {
   "cell_type": "code",
   "execution_count": 1,
   "metadata": {
    "colab": {
     "base_uri": "https://localhost:8080/",
     "height": 70
    },
    "colab_type": "code",
    "executionInfo": {
     "elapsed": 1594,
     "status": "ok",
     "timestamp": 1595076783113,
     "user": {
      "displayName": "Sandeepan Mahapatra",
      "photoUrl": "https://lh3.googleusercontent.com/a-/AOh14GghtcDTAgQfqAjPJCkZ40E8sQlL6QPin3iA6o5mRg=s64",
      "userId": "14718539613734897749"
     },
     "user_tz": -330
    },
    "id": "lEF6gDadpzqg",
    "outputId": "42ddcb20-89c8-4179-862e-55c617cf0c50"
   },
   "outputs": [
    {
     "name": "stderr",
     "output_type": "stream",
     "text": [
      "/usr/local/lib/python3.6/dist-packages/statsmodels/tools/_testing.py:19: FutureWarning: pandas.util.testing is deprecated. Use the functions in the public API at pandas.testing instead.\n",
      "  import pandas.util.testing as tm\n"
     ]
    }
   ],
   "source": [
    "import pandas as pd\n",
    "import numpy as np\n",
    "import matplotlib.pyplot as plt\n",
    "import seaborn as sns\n",
    "%matplotlib inline"
   ]
  },
  {
   "cell_type": "code",
   "execution_count": 11,
   "metadata": {
    "colab": {
     "base_uri": "https://localhost:8080/",
     "height": 184
    },
    "colab_type": "code",
    "executionInfo": {
     "elapsed": 118713,
     "status": "ok",
     "timestamp": 1595076900465,
     "user": {
      "displayName": "Sandeepan Mahapatra",
      "photoUrl": "https://lh3.googleusercontent.com/a-/AOh14GghtcDTAgQfqAjPJCkZ40E8sQlL6QPin3iA6o5mRg=s64",
      "userId": "14718539613734897749"
     },
     "user_tz": -330
    },
    "id": "A8KSYfgksSH_",
    "outputId": "3c0a0fc7-bbcf-4e73-bcb4-b59107777d93"
   },
   "outputs": [
    {
     "name": "stdout",
     "output_type": "stream",
     "text": [
      "Collecting ppscore\n",
      "\u001b[?25l  Downloading https://files.pythonhosted.org/packages/29/8a/8d6b0307bd5160071c624933c58055086eda8b873144131f39dcb88d7072/ppscore-0.0.4.tar.gz (41kB)\n",
      "\r",
      "\u001b[K     |████████                        | 10kB 15.5MB/s eta 0:00:01\r",
      "\u001b[K     |████████████████                | 20kB 5.7MB/s eta 0:00:01\r",
      "\u001b[K     |███████████████████████▉        | 30kB 7.7MB/s eta 0:00:01\r",
      "\u001b[K     |███████████████████████████████▉| 40kB 8.2MB/s eta 0:00:01\r",
      "\u001b[K     |████████████████████████████████| 51kB 4.2MB/s \n",
      "\u001b[?25hBuilding wheels for collected packages: ppscore\n",
      "  Building wheel for ppscore (setup.py) ... \u001b[?25l\u001b[?25hdone\n",
      "  Created wheel for ppscore: filename=ppscore-0.0.4-py2.py3-none-any.whl size=10575 sha256=158e638bb96b6931d204d322455c81d22378960789923955acb569fac1d7c571\n",
      "  Stored in directory: /root/.cache/pip/wheels/0c/2f/cc/0df0a0bb6ace01a72ff490179e083aafa4d9f1b5325641df31\n",
      "Successfully built ppscore\n",
      "Installing collected packages: ppscore\n",
      "Successfully installed ppscore-0.0.4\n"
     ]
    }
   ],
   "source": [
    "!pip install ppscore"
   ]
  },
  {
   "cell_type": "code",
   "execution_count": 10,
   "metadata": {
    "colab": {
     "base_uri": "https://localhost:8080/",
     "height": 100
    },
    "colab_type": "code",
    "executionInfo": {
     "elapsed": 113130,
     "status": "ok",
     "timestamp": 1595076894857,
     "user": {
      "displayName": "Sandeepan Mahapatra",
      "photoUrl": "https://lh3.googleusercontent.com/a-/AOh14GghtcDTAgQfqAjPJCkZ40E8sQlL6QPin3iA6o5mRg=s64",
      "userId": "14718539613734897749"
     },
     "user_tz": -330
    },
    "id": "f5YDtaRosMSs",
    "outputId": "e738804f-ea30-4777-8afe-b43376d18ccf"
   },
   "outputs": [
    {
     "name": "stdout",
     "output_type": "stream",
     "text": [
      "Collecting lazypredict\n",
      "  Downloading https://files.pythonhosted.org/packages/5f/db/1566dca1050ea74e9474dca0f1e7bbffcb0c3e694cf92e7e6e7ef9fca3af/lazypredict-0.2.7-py2.py3-none-any.whl\n",
      "Requirement already satisfied: Click>=7.0 in /usr/local/lib/python3.6/dist-packages (from lazypredict) (7.1.2)\n",
      "Installing collected packages: lazypredict\n",
      "Successfully installed lazypredict-0.2.7\n"
     ]
    }
   ],
   "source": [
    "!pip install lazypredict"
   ]
  },
  {
   "cell_type": "markdown",
   "metadata": {
    "colab_type": "text",
    "id": "U_Xd1_6_GDZZ"
   },
   "source": [
    "## Loading the data"
   ]
  },
  {
   "cell_type": "code",
   "execution_count": 2,
   "metadata": {
    "colab": {
     "base_uri": "https://localhost:8080/",
     "height": 56,
     "resources": {
      "http://localhost:8080/nbextensions/google.colab/files.js": {
       "data": "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",
       "headers": [
        [
         "content-type",
         "application/javascript"
        ]
       ],
       "ok": true,
       "status": 200,
       "status_text": ""
      }
     }
    },
    "colab_type": "code",
    "executionInfo": {
     "elapsed": 107970,
     "status": "ok",
     "timestamp": 1595076889560,
     "user": {
      "displayName": "Sandeepan Mahapatra",
      "photoUrl": "https://lh3.googleusercontent.com/a-/AOh14GghtcDTAgQfqAjPJCkZ40E8sQlL6QPin3iA6o5mRg=s64",
      "userId": "14718539613734897749"
     },
     "user_tz": -330
    },
    "id": "owreuc3ZqADa",
    "outputId": "7c92eb1c-398c-4504-8a38-4bc4290a2b9c"
   },
   "outputs": [
    {
     "data": {
      "text/html": [
       "\n",
       "     <input type=\"file\" id=\"files-c61760cf-1ea4-4abf-b9b6-ff79a7f78e58\" name=\"files[]\" multiple disabled\n",
       "        style=\"border:none\" />\n",
       "     <output id=\"result-c61760cf-1ea4-4abf-b9b6-ff79a7f78e58\">\n",
       "      Upload widget is only available when the cell has been executed in the\n",
       "      current browser session. Please rerun this cell to enable.\n",
       "      </output>\n",
       "      <script src=\"/nbextensions/google.colab/files.js\"></script> "
      ],
      "text/plain": [
       "<IPython.core.display.HTML object>"
      ]
     },
     "metadata": {
      "tags": []
     },
     "output_type": "display_data"
    },
    {
     "name": "stdout",
     "output_type": "stream",
     "text": [
      "Saving AirplaneAccident.csv to AirplaneAccident.csv\n"
     ]
    }
   ],
   "source": [
    "from google.colab import files\n",
    "uploaded = files.upload()"
   ]
  },
  {
   "cell_type": "code",
   "execution_count": 3,
   "metadata": {
    "colab": {},
    "colab_type": "code",
    "executionInfo": {
     "elapsed": 107970,
     "status": "ok",
     "timestamp": 1595076889567,
     "user": {
      "displayName": "Sandeepan Mahapatra",
      "photoUrl": "https://lh3.googleusercontent.com/a-/AOh14GghtcDTAgQfqAjPJCkZ40E8sQlL6QPin3iA6o5mRg=s64",
      "userId": "14718539613734897749"
     },
     "user_tz": -330
    },
    "id": "u1xd2tE1r-KW"
   },
   "outputs": [],
   "source": [
    "df=pd.read_csv('AirplaneAccident.csv')"
   ]
  },
  {
   "cell_type": "code",
   "execution_count": 4,
   "metadata": {
    "colab": {
     "base_uri": "https://localhost:8080/",
     "height": 216
    },
    "colab_type": "code",
    "executionInfo": {
     "elapsed": 107952,
     "status": "ok",
     "timestamp": 1595076889569,
     "user": {
      "displayName": "Sandeepan Mahapatra",
      "photoUrl": "https://lh3.googleusercontent.com/a-/AOh14GghtcDTAgQfqAjPJCkZ40E8sQlL6QPin3iA6o5mRg=s64",
      "userId": "14718539613734897749"
     },
     "user_tz": -330
    },
    "id": "H2pep11pqOC3",
    "outputId": "c7182250-f1d9-493a-9264-9f3721e6a1f0"
   },
   "outputs": [
    {
     "data": {
      "text/html": [
       "<div>\n",
       "<style scoped>\n",
       "    .dataframe tbody tr th:only-of-type {\n",
       "        vertical-align: middle;\n",
       "    }\n",
       "\n",
       "    .dataframe tbody tr th {\n",
       "        vertical-align: top;\n",
       "    }\n",
       "\n",
       "    .dataframe thead th {\n",
       "        text-align: right;\n",
       "    }\n",
       "</style>\n",
       "<table border=\"1\" class=\"dataframe\">\n",
       "  <thead>\n",
       "    <tr style=\"text-align: right;\">\n",
       "      <th></th>\n",
       "      <th>Severity</th>\n",
       "      <th>Safety_Score</th>\n",
       "      <th>Days_Since_Inspection</th>\n",
       "      <th>Total_Safety_Complaints</th>\n",
       "      <th>Control_Metric</th>\n",
       "      <th>Turbulence_In_gforces</th>\n",
       "      <th>Cabin_Temperature</th>\n",
       "      <th>Accident_Type_Code</th>\n",
       "      <th>Max_Elevation</th>\n",
       "      <th>Violations</th>\n",
       "      <th>Adverse_Weather_Metric</th>\n",
       "      <th>Accident_ID</th>\n",
       "    </tr>\n",
       "  </thead>\n",
       "  <tbody>\n",
       "    <tr>\n",
       "      <th>0</th>\n",
       "      <td>Minor_Damage_And_Injuries</td>\n",
       "      <td>49.223744</td>\n",
       "      <td>14</td>\n",
       "      <td>22</td>\n",
       "      <td>71.285324</td>\n",
       "      <td>0.272118</td>\n",
       "      <td>78.04</td>\n",
       "      <td>2</td>\n",
       "      <td>31335.47682</td>\n",
       "      <td>3</td>\n",
       "      <td>0.424352</td>\n",
       "      <td>7570</td>\n",
       "    </tr>\n",
       "    <tr>\n",
       "      <th>1</th>\n",
       "      <td>Minor_Damage_And_Injuries</td>\n",
       "      <td>62.465753</td>\n",
       "      <td>10</td>\n",
       "      <td>27</td>\n",
       "      <td>72.288058</td>\n",
       "      <td>0.423939</td>\n",
       "      <td>84.54</td>\n",
       "      <td>2</td>\n",
       "      <td>26024.71106</td>\n",
       "      <td>2</td>\n",
       "      <td>0.352350</td>\n",
       "      <td>12128</td>\n",
       "    </tr>\n",
       "    <tr>\n",
       "      <th>2</th>\n",
       "      <td>Significant_Damage_And_Fatalities</td>\n",
       "      <td>63.059361</td>\n",
       "      <td>13</td>\n",
       "      <td>16</td>\n",
       "      <td>66.362808</td>\n",
       "      <td>0.322604</td>\n",
       "      <td>78.86</td>\n",
       "      <td>7</td>\n",
       "      <td>39269.05393</td>\n",
       "      <td>3</td>\n",
       "      <td>0.003364</td>\n",
       "      <td>2181</td>\n",
       "    </tr>\n",
       "    <tr>\n",
       "      <th>3</th>\n",
       "      <td>Significant_Damage_And_Serious_Injuries</td>\n",
       "      <td>48.082192</td>\n",
       "      <td>11</td>\n",
       "      <td>9</td>\n",
       "      <td>74.703737</td>\n",
       "      <td>0.337029</td>\n",
       "      <td>81.79</td>\n",
       "      <td>3</td>\n",
       "      <td>42771.49920</td>\n",
       "      <td>1</td>\n",
       "      <td>0.211728</td>\n",
       "      <td>5946</td>\n",
       "    </tr>\n",
       "    <tr>\n",
       "      <th>4</th>\n",
       "      <td>Significant_Damage_And_Fatalities</td>\n",
       "      <td>26.484018</td>\n",
       "      <td>13</td>\n",
       "      <td>25</td>\n",
       "      <td>47.948952</td>\n",
       "      <td>0.541140</td>\n",
       "      <td>77.16</td>\n",
       "      <td>3</td>\n",
       "      <td>35509.22852</td>\n",
       "      <td>2</td>\n",
       "      <td>0.176883</td>\n",
       "      <td>9054</td>\n",
       "    </tr>\n",
       "  </tbody>\n",
       "</table>\n",
       "</div>"
      ],
      "text/plain": [
       "                                  Severity  ...  Accident_ID\n",
       "0                Minor_Damage_And_Injuries  ...         7570\n",
       "1                Minor_Damage_And_Injuries  ...        12128\n",
       "2        Significant_Damage_And_Fatalities  ...         2181\n",
       "3  Significant_Damage_And_Serious_Injuries  ...         5946\n",
       "4        Significant_Damage_And_Fatalities  ...         9054\n",
       "\n",
       "[5 rows x 12 columns]"
      ]
     },
     "execution_count": 4,
     "metadata": {
      "tags": []
     },
     "output_type": "execute_result"
    }
   ],
   "source": [
    "df.head()"
   ]
  },
  {
   "cell_type": "markdown",
   "metadata": {
    "colab_type": "text",
    "id": "QB6OxMeRGu9Y"
   },
   "source": [
    "## Exploring the data"
   ]
  },
  {
   "cell_type": "code",
   "execution_count": 5,
   "metadata": {
    "colab": {
     "base_uri": "https://localhost:8080/",
     "height": 334
    },
    "colab_type": "code",
    "executionInfo": {
     "elapsed": 107936,
     "status": "ok",
     "timestamp": 1595076889572,
     "user": {
      "displayName": "Sandeepan Mahapatra",
      "photoUrl": "https://lh3.googleusercontent.com/a-/AOh14GghtcDTAgQfqAjPJCkZ40E8sQlL6QPin3iA6o5mRg=s64",
      "userId": "14718539613734897749"
     },
     "user_tz": -330
    },
    "id": "UHoFHMOVr-sw",
    "outputId": "870cebbf-e431-4ded-ed96-79c35a99ebc0"
   },
   "outputs": [
    {
     "name": "stdout",
     "output_type": "stream",
     "text": [
      "<class 'pandas.core.frame.DataFrame'>\n",
      "RangeIndex: 10000 entries, 0 to 9999\n",
      "Data columns (total 12 columns):\n",
      " #   Column                   Non-Null Count  Dtype  \n",
      "---  ------                   --------------  -----  \n",
      " 0   Severity                 10000 non-null  object \n",
      " 1   Safety_Score             10000 non-null  float64\n",
      " 2   Days_Since_Inspection    10000 non-null  int64  \n",
      " 3   Total_Safety_Complaints  10000 non-null  int64  \n",
      " 4   Control_Metric           10000 non-null  float64\n",
      " 5   Turbulence_In_gforces    10000 non-null  float64\n",
      " 6   Cabin_Temperature        10000 non-null  float64\n",
      " 7   Accident_Type_Code       10000 non-null  int64  \n",
      " 8   Max_Elevation            10000 non-null  float64\n",
      " 9   Violations               10000 non-null  int64  \n",
      " 10  Adverse_Weather_Metric   10000 non-null  float64\n",
      " 11  Accident_ID              10000 non-null  int64  \n",
      "dtypes: float64(6), int64(5), object(1)\n",
      "memory usage: 937.6+ KB\n"
     ]
    }
   ],
   "source": [
    "df.info()"
   ]
  },
  {
   "cell_type": "markdown",
   "metadata": {
    "colab_type": "text",
    "id": "FyPlMsskC-Ma"
   },
   "source": [
    "In the cells below, I have label encoded the column 'Severity' as 1,2,3,4 on the basis of severity. As we know the machine learning model understands only numbers. Also I haven't applied one-hot encoding because there was heirarchy in the column severity."
   ]
  },
  {
   "cell_type": "code",
   "execution_count": 6,
   "metadata": {
    "colab": {
     "base_uri": "https://localhost:8080/",
     "height": 33
    },
    "colab_type": "code",
    "executionInfo": {
     "elapsed": 107916,
     "status": "ok",
     "timestamp": 1595076889574,
     "user": {
      "displayName": "Sandeepan Mahapatra",
      "photoUrl": "https://lh3.googleusercontent.com/a-/AOh14GghtcDTAgQfqAjPJCkZ40E8sQlL6QPin3iA6o5mRg=s64",
      "userId": "14718539613734897749"
     },
     "user_tz": -330
    },
    "id": "7iHPFh-TsFLa",
    "outputId": "7fc2ed5a-3ef2-41a4-9e24-604c29068ea9"
   },
   "outputs": [
    {
     "data": {
      "text/plain": [
       "4"
      ]
     },
     "execution_count": 6,
     "metadata": {
      "tags": []
     },
     "output_type": "execute_result"
    }
   ],
   "source": [
    "df['Severity'].nunique()"
   ]
  },
  {
   "cell_type": "code",
   "execution_count": 7,
   "metadata": {
    "colab": {
     "base_uri": "https://localhost:8080/",
     "height": 100
    },
    "colab_type": "code",
    "executionInfo": {
     "elapsed": 107896,
     "status": "ok",
     "timestamp": 1595076889576,
     "user": {
      "displayName": "Sandeepan Mahapatra",
      "photoUrl": "https://lh3.googleusercontent.com/a-/AOh14GghtcDTAgQfqAjPJCkZ40E8sQlL6QPin3iA6o5mRg=s64",
      "userId": "14718539613734897749"
     },
     "user_tz": -330
    },
    "id": "ynMwzYFhsG7N",
    "outputId": "1d2782ec-b16e-4063-c4ef-38e046bc57fe"
   },
   "outputs": [
    {
     "data": {
      "text/plain": [
       "Highly_Fatal_And_Damaging                  3049\n",
       "Significant_Damage_And_Serious_Injuries    2729\n",
       "Minor_Damage_And_Injuries                  2527\n",
       "Significant_Damage_And_Fatalities          1695\n",
       "Name: Severity, dtype: int64"
      ]
     },
     "execution_count": 7,
     "metadata": {
      "tags": []
     },
     "output_type": "execute_result"
    }
   ],
   "source": [
    "df[\"Severity\"].value_counts()"
   ]
  },
  {
   "cell_type": "code",
   "execution_count": 8,
   "metadata": {
    "colab": {},
    "colab_type": "code",
    "executionInfo": {
     "elapsed": 107891,
     "status": "ok",
     "timestamp": 1595076889577,
     "user": {
      "displayName": "Sandeepan Mahapatra",
      "photoUrl": "https://lh3.googleusercontent.com/a-/AOh14GghtcDTAgQfqAjPJCkZ40E8sQlL6QPin3iA6o5mRg=s64",
      "userId": "14718539613734897749"
     },
     "user_tz": -330
    },
    "id": "_KJyXf1qsIv3"
   },
   "outputs": [],
   "source": [
    "l = {\"Severity\": {\"Highly_Fatal_And_Damaging\": 4, \"Significant_Damage_And_Serious_Injuries\": 2,\n",
    "                 \"Minor_Damage_And_Injuries\":1 ,\"Significant_Damage_And_Fatalities\":3 }}"
   ]
  },
  {
   "cell_type": "code",
   "execution_count": 9,
   "metadata": {
    "colab": {
     "base_uri": "https://localhost:8080/",
     "height": 216
    },
    "colab_type": "code",
    "executionInfo": {
     "elapsed": 107873,
     "status": "ok",
     "timestamp": 1595076889577,
     "user": {
      "displayName": "Sandeepan Mahapatra",
      "photoUrl": "https://lh3.googleusercontent.com/a-/AOh14GghtcDTAgQfqAjPJCkZ40E8sQlL6QPin3iA6o5mRg=s64",
      "userId": "14718539613734897749"
     },
     "user_tz": -330
    },
    "id": "vqbTtoicsKkv",
    "outputId": "dfab348e-4c30-4a9c-90ac-69634a607bda"
   },
   "outputs": [
    {
     "data": {
      "text/html": [
       "<div>\n",
       "<style scoped>\n",
       "    .dataframe tbody tr th:only-of-type {\n",
       "        vertical-align: middle;\n",
       "    }\n",
       "\n",
       "    .dataframe tbody tr th {\n",
       "        vertical-align: top;\n",
       "    }\n",
       "\n",
       "    .dataframe thead th {\n",
       "        text-align: right;\n",
       "    }\n",
       "</style>\n",
       "<table border=\"1\" class=\"dataframe\">\n",
       "  <thead>\n",
       "    <tr style=\"text-align: right;\">\n",
       "      <th></th>\n",
       "      <th>Severity</th>\n",
       "      <th>Safety_Score</th>\n",
       "      <th>Days_Since_Inspection</th>\n",
       "      <th>Total_Safety_Complaints</th>\n",
       "      <th>Control_Metric</th>\n",
       "      <th>Turbulence_In_gforces</th>\n",
       "      <th>Cabin_Temperature</th>\n",
       "      <th>Accident_Type_Code</th>\n",
       "      <th>Max_Elevation</th>\n",
       "      <th>Violations</th>\n",
       "      <th>Adverse_Weather_Metric</th>\n",
       "      <th>Accident_ID</th>\n",
       "    </tr>\n",
       "  </thead>\n",
       "  <tbody>\n",
       "    <tr>\n",
       "      <th>0</th>\n",
       "      <td>1</td>\n",
       "      <td>49.223744</td>\n",
       "      <td>14</td>\n",
       "      <td>22</td>\n",
       "      <td>71.285324</td>\n",
       "      <td>0.272118</td>\n",
       "      <td>78.04</td>\n",
       "      <td>2</td>\n",
       "      <td>31335.47682</td>\n",
       "      <td>3</td>\n",
       "      <td>0.424352</td>\n",
       "      <td>7570</td>\n",
       "    </tr>\n",
       "    <tr>\n",
       "      <th>1</th>\n",
       "      <td>1</td>\n",
       "      <td>62.465753</td>\n",
       "      <td>10</td>\n",
       "      <td>27</td>\n",
       "      <td>72.288058</td>\n",
       "      <td>0.423939</td>\n",
       "      <td>84.54</td>\n",
       "      <td>2</td>\n",
       "      <td>26024.71106</td>\n",
       "      <td>2</td>\n",
       "      <td>0.352350</td>\n",
       "      <td>12128</td>\n",
       "    </tr>\n",
       "    <tr>\n",
       "      <th>2</th>\n",
       "      <td>3</td>\n",
       "      <td>63.059361</td>\n",
       "      <td>13</td>\n",
       "      <td>16</td>\n",
       "      <td>66.362808</td>\n",
       "      <td>0.322604</td>\n",
       "      <td>78.86</td>\n",
       "      <td>7</td>\n",
       "      <td>39269.05393</td>\n",
       "      <td>3</td>\n",
       "      <td>0.003364</td>\n",
       "      <td>2181</td>\n",
       "    </tr>\n",
       "    <tr>\n",
       "      <th>3</th>\n",
       "      <td>2</td>\n",
       "      <td>48.082192</td>\n",
       "      <td>11</td>\n",
       "      <td>9</td>\n",
       "      <td>74.703737</td>\n",
       "      <td>0.337029</td>\n",
       "      <td>81.79</td>\n",
       "      <td>3</td>\n",
       "      <td>42771.49920</td>\n",
       "      <td>1</td>\n",
       "      <td>0.211728</td>\n",
       "      <td>5946</td>\n",
       "    </tr>\n",
       "    <tr>\n",
       "      <th>4</th>\n",
       "      <td>3</td>\n",
       "      <td>26.484018</td>\n",
       "      <td>13</td>\n",
       "      <td>25</td>\n",
       "      <td>47.948952</td>\n",
       "      <td>0.541140</td>\n",
       "      <td>77.16</td>\n",
       "      <td>3</td>\n",
       "      <td>35509.22852</td>\n",
       "      <td>2</td>\n",
       "      <td>0.176883</td>\n",
       "      <td>9054</td>\n",
       "    </tr>\n",
       "  </tbody>\n",
       "</table>\n",
       "</div>"
      ],
      "text/plain": [
       "   Severity  Safety_Score  ...  Adverse_Weather_Metric  Accident_ID\n",
       "0         1     49.223744  ...                0.424352         7570\n",
       "1         1     62.465753  ...                0.352350        12128\n",
       "2         3     63.059361  ...                0.003364         2181\n",
       "3         2     48.082192  ...                0.211728         5946\n",
       "4         3     26.484018  ...                0.176883         9054\n",
       "\n",
       "[5 rows x 12 columns]"
      ]
     },
     "execution_count": 9,
     "metadata": {
      "tags": []
     },
     "output_type": "execute_result"
    }
   ],
   "source": [
    "df.replace(l, inplace=True)\n",
    "df.head()"
   ]
  },
  {
   "cell_type": "markdown",
   "metadata": {
    "colab_type": "text",
    "id": "CV59YG3CG3HO"
   },
   "source": [
    "## Using ppscore"
   ]
  },
  {
   "cell_type": "markdown",
   "metadata": {
    "colab_type": "text",
    "id": "ZRv5Qja2DNAU"
   },
   "source": [
    "Below, I have obtained the ppscore matrix. It basically gives more insight into the data than correlation. <p>\n",
    "This is where I have used one of my secret weapon :P . I have included the link from where you can find more about ppscore.<p>\n",
    "https://towardsdatascience.com/rip-correlation-introducing-the-predictive-power-score-3d90808b9598"
   ]
  },
  {
   "cell_type": "code",
   "execution_count": 12,
   "metadata": {
    "colab": {},
    "colab_type": "code",
    "executionInfo": {
     "elapsed": 119438,
     "status": "ok",
     "timestamp": 1595076901199,
     "user": {
      "displayName": "Sandeepan Mahapatra",
      "photoUrl": "https://lh3.googleusercontent.com/a-/AOh14GghtcDTAgQfqAjPJCkZ40E8sQlL6QPin3iA6o5mRg=s64",
      "userId": "14718539613734897749"
     },
     "user_tz": -330
    },
    "id": "JvSsA2r6sUR_"
   },
   "outputs": [],
   "source": [
    "import ppscore as pps"
   ]
  },
  {
   "cell_type": "code",
   "execution_count": 13,
   "metadata": {
    "colab": {
     "base_uri": "https://localhost:8080/",
     "height": 425
    },
    "colab_type": "code",
    "executionInfo": {
     "elapsed": 124473,
     "status": "ok",
     "timestamp": 1595076906254,
     "user": {
      "displayName": "Sandeepan Mahapatra",
      "photoUrl": "https://lh3.googleusercontent.com/a-/AOh14GghtcDTAgQfqAjPJCkZ40E8sQlL6QPin3iA6o5mRg=s64",
      "userId": "14718539613734897749"
     },
     "user_tz": -330
    },
    "id": "U3Dq1BxIsY5V",
    "outputId": "9bb766ef-a6fd-4edf-932a-b90bfe706969"
   },
   "outputs": [
    {
     "data": {
      "text/html": [
       "<div>\n",
       "<style scoped>\n",
       "    .dataframe tbody tr th:only-of-type {\n",
       "        vertical-align: middle;\n",
       "    }\n",
       "\n",
       "    .dataframe tbody tr th {\n",
       "        vertical-align: top;\n",
       "    }\n",
       "\n",
       "    .dataframe thead th {\n",
       "        text-align: right;\n",
       "    }\n",
       "</style>\n",
       "<table border=\"1\" class=\"dataframe\">\n",
       "  <thead>\n",
       "    <tr style=\"text-align: right;\">\n",
       "      <th></th>\n",
       "      <th>Severity</th>\n",
       "      <th>Safety_Score</th>\n",
       "      <th>Days_Since_Inspection</th>\n",
       "      <th>Total_Safety_Complaints</th>\n",
       "      <th>Control_Metric</th>\n",
       "      <th>Turbulence_In_gforces</th>\n",
       "      <th>Cabin_Temperature</th>\n",
       "      <th>Accident_Type_Code</th>\n",
       "      <th>Max_Elevation</th>\n",
       "      <th>Violations</th>\n",
       "      <th>Adverse_Weather_Metric</th>\n",
       "      <th>Accident_ID</th>\n",
       "    </tr>\n",
       "  </thead>\n",
       "  <tbody>\n",
       "    <tr>\n",
       "      <th>Severity</th>\n",
       "      <td>1.000000</td>\n",
       "      <td>0.403692</td>\n",
       "      <td>0.000000</td>\n",
       "      <td>0.00000</td>\n",
       "      <td>0.249392</td>\n",
       "      <td>0.115645</td>\n",
       "      <td>0.129675</td>\n",
       "      <td>0.358465</td>\n",
       "      <td>0.203499</td>\n",
       "      <td>0.000000</td>\n",
       "      <td>0.127628</td>\n",
       "      <td>0</td>\n",
       "    </tr>\n",
       "    <tr>\n",
       "      <th>Safety_Score</th>\n",
       "      <td>0.073862</td>\n",
       "      <td>1.000000</td>\n",
       "      <td>0.225035</td>\n",
       "      <td>0.00000</td>\n",
       "      <td>0.028290</td>\n",
       "      <td>0.000000</td>\n",
       "      <td>0.000000</td>\n",
       "      <td>0.097294</td>\n",
       "      <td>0.000000</td>\n",
       "      <td>0.000000</td>\n",
       "      <td>0.000000</td>\n",
       "      <td>0</td>\n",
       "    </tr>\n",
       "    <tr>\n",
       "      <th>Days_Since_Inspection</th>\n",
       "      <td>0.000000</td>\n",
       "      <td>0.407313</td>\n",
       "      <td>1.000000</td>\n",
       "      <td>0.00194</td>\n",
       "      <td>0.020764</td>\n",
       "      <td>0.000000</td>\n",
       "      <td>0.000000</td>\n",
       "      <td>0.000000</td>\n",
       "      <td>0.000000</td>\n",
       "      <td>0.000000</td>\n",
       "      <td>0.000000</td>\n",
       "      <td>0</td>\n",
       "    </tr>\n",
       "    <tr>\n",
       "      <th>Total_Safety_Complaints</th>\n",
       "      <td>0.000000</td>\n",
       "      <td>0.000000</td>\n",
       "      <td>0.000000</td>\n",
       "      <td>1.00000</td>\n",
       "      <td>0.000000</td>\n",
       "      <td>0.000000</td>\n",
       "      <td>0.000000</td>\n",
       "      <td>0.000000</td>\n",
       "      <td>0.000000</td>\n",
       "      <td>0.000000</td>\n",
       "      <td>0.000000</td>\n",
       "      <td>0</td>\n",
       "    </tr>\n",
       "    <tr>\n",
       "      <th>Control_Metric</th>\n",
       "      <td>0.019307</td>\n",
       "      <td>0.000000</td>\n",
       "      <td>0.000940</td>\n",
       "      <td>0.00000</td>\n",
       "      <td>1.000000</td>\n",
       "      <td>0.281827</td>\n",
       "      <td>0.058740</td>\n",
       "      <td>0.000000</td>\n",
       "      <td>0.075964</td>\n",
       "      <td>0.000000</td>\n",
       "      <td>0.000000</td>\n",
       "      <td>0</td>\n",
       "    </tr>\n",
       "    <tr>\n",
       "      <th>Turbulence_In_gforces</th>\n",
       "      <td>0.000000</td>\n",
       "      <td>0.000000</td>\n",
       "      <td>0.000000</td>\n",
       "      <td>0.00000</td>\n",
       "      <td>0.235879</td>\n",
       "      <td>1.000000</td>\n",
       "      <td>0.074012</td>\n",
       "      <td>0.000000</td>\n",
       "      <td>0.126997</td>\n",
       "      <td>0.000000</td>\n",
       "      <td>0.000000</td>\n",
       "      <td>0</td>\n",
       "    </tr>\n",
       "    <tr>\n",
       "      <th>Cabin_Temperature</th>\n",
       "      <td>0.000000</td>\n",
       "      <td>0.000000</td>\n",
       "      <td>0.000000</td>\n",
       "      <td>0.00000</td>\n",
       "      <td>0.000000</td>\n",
       "      <td>0.000000</td>\n",
       "      <td>1.000000</td>\n",
       "      <td>0.000000</td>\n",
       "      <td>0.000000</td>\n",
       "      <td>0.000000</td>\n",
       "      <td>0.000000</td>\n",
       "      <td>0</td>\n",
       "    </tr>\n",
       "    <tr>\n",
       "      <th>Accident_Type_Code</th>\n",
       "      <td>0.192816</td>\n",
       "      <td>0.101825</td>\n",
       "      <td>0.000000</td>\n",
       "      <td>0.00000</td>\n",
       "      <td>0.050411</td>\n",
       "      <td>0.030284</td>\n",
       "      <td>0.040054</td>\n",
       "      <td>1.000000</td>\n",
       "      <td>0.186728</td>\n",
       "      <td>0.000000</td>\n",
       "      <td>0.933104</td>\n",
       "      <td>0</td>\n",
       "    </tr>\n",
       "    <tr>\n",
       "      <th>Max_Elevation</th>\n",
       "      <td>0.000000</td>\n",
       "      <td>0.000000</td>\n",
       "      <td>0.000000</td>\n",
       "      <td>0.00000</td>\n",
       "      <td>0.000000</td>\n",
       "      <td>0.000000</td>\n",
       "      <td>0.000000</td>\n",
       "      <td>0.000000</td>\n",
       "      <td>1.000000</td>\n",
       "      <td>0.001173</td>\n",
       "      <td>0.722277</td>\n",
       "      <td>0</td>\n",
       "    </tr>\n",
       "    <tr>\n",
       "      <th>Violations</th>\n",
       "      <td>0.000000</td>\n",
       "      <td>0.027370</td>\n",
       "      <td>0.000000</td>\n",
       "      <td>0.00000</td>\n",
       "      <td>0.019824</td>\n",
       "      <td>0.027784</td>\n",
       "      <td>0.023884</td>\n",
       "      <td>0.000000</td>\n",
       "      <td>0.020633</td>\n",
       "      <td>1.000000</td>\n",
       "      <td>0.011039</td>\n",
       "      <td>0</td>\n",
       "    </tr>\n",
       "    <tr>\n",
       "      <th>Adverse_Weather_Metric</th>\n",
       "      <td>0.000000</td>\n",
       "      <td>0.000000</td>\n",
       "      <td>0.000000</td>\n",
       "      <td>0.00000</td>\n",
       "      <td>0.000000</td>\n",
       "      <td>0.000000</td>\n",
       "      <td>0.000000</td>\n",
       "      <td>0.743738</td>\n",
       "      <td>0.012447</td>\n",
       "      <td>0.000000</td>\n",
       "      <td>1.000000</td>\n",
       "      <td>0</td>\n",
       "    </tr>\n",
       "    <tr>\n",
       "      <th>Accident_ID</th>\n",
       "      <td>0.000525</td>\n",
       "      <td>0.000000</td>\n",
       "      <td>0.000000</td>\n",
       "      <td>0.00000</td>\n",
       "      <td>0.000000</td>\n",
       "      <td>0.000000</td>\n",
       "      <td>0.000000</td>\n",
       "      <td>0.000000</td>\n",
       "      <td>0.000000</td>\n",
       "      <td>0.000000</td>\n",
       "      <td>0.000000</td>\n",
       "      <td>1</td>\n",
       "    </tr>\n",
       "  </tbody>\n",
       "</table>\n",
       "</div>"
      ],
      "text/plain": [
       "                         Severity  ...  Accident_ID\n",
       "Severity                 1.000000  ...            0\n",
       "Safety_Score             0.073862  ...            0\n",
       "Days_Since_Inspection    0.000000  ...            0\n",
       "Total_Safety_Complaints  0.000000  ...            0\n",
       "Control_Metric           0.019307  ...            0\n",
       "Turbulence_In_gforces    0.000000  ...            0\n",
       "Cabin_Temperature        0.000000  ...            0\n",
       "Accident_Type_Code       0.192816  ...            0\n",
       "Max_Elevation            0.000000  ...            0\n",
       "Violations               0.000000  ...            0\n",
       "Adverse_Weather_Metric   0.000000  ...            0\n",
       "Accident_ID              0.000525  ...            1\n",
       "\n",
       "[12 rows x 12 columns]"
      ]
     },
     "execution_count": 13,
     "metadata": {
      "tags": []
     },
     "output_type": "execute_result"
    }
   ],
   "source": [
    "pps.matrix(df)"
   ]
  },
  {
   "cell_type": "code",
   "execution_count": 14,
   "metadata": {
    "colab": {
     "base_uri": "https://localhost:8080/",
     "height": 425
    },
    "colab_type": "code",
    "executionInfo": {
     "elapsed": 124451,
     "status": "ok",
     "timestamp": 1595076906256,
     "user": {
      "displayName": "Sandeepan Mahapatra",
      "photoUrl": "https://lh3.googleusercontent.com/a-/AOh14GghtcDTAgQfqAjPJCkZ40E8sQlL6QPin3iA6o5mRg=s64",
      "userId": "14718539613734897749"
     },
     "user_tz": -330
    },
    "id": "wSEww3bjsaoL",
    "outputId": "591a11ca-5860-4955-c878-4dcc6fe923bc"
   },
   "outputs": [
    {
     "data": {
      "text/html": [
       "<div>\n",
       "<style scoped>\n",
       "    .dataframe tbody tr th:only-of-type {\n",
       "        vertical-align: middle;\n",
       "    }\n",
       "\n",
       "    .dataframe tbody tr th {\n",
       "        vertical-align: top;\n",
       "    }\n",
       "\n",
       "    .dataframe thead th {\n",
       "        text-align: right;\n",
       "    }\n",
       "</style>\n",
       "<table border=\"1\" class=\"dataframe\">\n",
       "  <thead>\n",
       "    <tr style=\"text-align: right;\">\n",
       "      <th></th>\n",
       "      <th>Severity</th>\n",
       "      <th>Safety_Score</th>\n",
       "      <th>Days_Since_Inspection</th>\n",
       "      <th>Total_Safety_Complaints</th>\n",
       "      <th>Control_Metric</th>\n",
       "      <th>Turbulence_In_gforces</th>\n",
       "      <th>Cabin_Temperature</th>\n",
       "      <th>Accident_Type_Code</th>\n",
       "      <th>Max_Elevation</th>\n",
       "      <th>Violations</th>\n",
       "      <th>Adverse_Weather_Metric</th>\n",
       "      <th>Accident_ID</th>\n",
       "    </tr>\n",
       "  </thead>\n",
       "  <tbody>\n",
       "    <tr>\n",
       "      <th>Severity</th>\n",
       "      <td>1.000000</td>\n",
       "      <td>-0.308136</td>\n",
       "      <td>-0.033429</td>\n",
       "      <td>-0.026801</td>\n",
       "      <td>0.013701</td>\n",
       "      <td>-0.031615</td>\n",
       "      <td>0.019172</td>\n",
       "      <td>0.018977</td>\n",
       "      <td>-0.019331</td>\n",
       "      <td>0.004590</td>\n",
       "      <td>0.029530</td>\n",
       "      <td>0.001033</td>\n",
       "    </tr>\n",
       "    <tr>\n",
       "      <th>Safety_Score</th>\n",
       "      <td>-0.308136</td>\n",
       "      <td>1.000000</td>\n",
       "      <td>-0.685386</td>\n",
       "      <td>0.057726</td>\n",
       "      <td>0.000564</td>\n",
       "      <td>0.019603</td>\n",
       "      <td>0.032747</td>\n",
       "      <td>0.173930</td>\n",
       "      <td>0.004451</td>\n",
       "      <td>0.041735</td>\n",
       "      <td>-0.107925</td>\n",
       "      <td>-0.001334</td>\n",
       "    </tr>\n",
       "    <tr>\n",
       "      <th>Days_Since_Inspection</th>\n",
       "      <td>-0.033429</td>\n",
       "      <td>-0.685386</td>\n",
       "      <td>1.000000</td>\n",
       "      <td>-0.032055</td>\n",
       "      <td>-0.011963</td>\n",
       "      <td>-0.001564</td>\n",
       "      <td>-0.039140</td>\n",
       "      <td>-0.024718</td>\n",
       "      <td>0.000183</td>\n",
       "      <td>-0.016724</td>\n",
       "      <td>0.040804</td>\n",
       "      <td>0.000582</td>\n",
       "    </tr>\n",
       "    <tr>\n",
       "      <th>Total_Safety_Complaints</th>\n",
       "      <td>-0.026801</td>\n",
       "      <td>0.057726</td>\n",
       "      <td>-0.032055</td>\n",
       "      <td>1.000000</td>\n",
       "      <td>-0.019665</td>\n",
       "      <td>0.066412</td>\n",
       "      <td>0.013590</td>\n",
       "      <td>0.034927</td>\n",
       "      <td>0.036855</td>\n",
       "      <td>-0.019005</td>\n",
       "      <td>-0.002713</td>\n",
       "      <td>0.004527</td>\n",
       "    </tr>\n",
       "    <tr>\n",
       "      <th>Control_Metric</th>\n",
       "      <td>0.013701</td>\n",
       "      <td>0.000564</td>\n",
       "      <td>-0.011963</td>\n",
       "      <td>-0.019665</td>\n",
       "      <td>1.000000</td>\n",
       "      <td>-0.643285</td>\n",
       "      <td>-0.008330</td>\n",
       "      <td>0.008385</td>\n",
       "      <td>-0.028375</td>\n",
       "      <td>-0.003284</td>\n",
       "      <td>-0.028296</td>\n",
       "      <td>0.006481</td>\n",
       "    </tr>\n",
       "    <tr>\n",
       "      <th>Turbulence_In_gforces</th>\n",
       "      <td>-0.031615</td>\n",
       "      <td>0.019603</td>\n",
       "      <td>-0.001564</td>\n",
       "      <td>0.066412</td>\n",
       "      <td>-0.643285</td>\n",
       "      <td>1.000000</td>\n",
       "      <td>0.010757</td>\n",
       "      <td>-0.007565</td>\n",
       "      <td>0.047625</td>\n",
       "      <td>0.013171</td>\n",
       "      <td>0.039802</td>\n",
       "      <td>-0.014396</td>\n",
       "    </tr>\n",
       "    <tr>\n",
       "      <th>Cabin_Temperature</th>\n",
       "      <td>0.019172</td>\n",
       "      <td>0.032747</td>\n",
       "      <td>-0.039140</td>\n",
       "      <td>0.013590</td>\n",
       "      <td>-0.008330</td>\n",
       "      <td>0.010757</td>\n",
       "      <td>1.000000</td>\n",
       "      <td>0.030682</td>\n",
       "      <td>-0.009186</td>\n",
       "      <td>0.018619</td>\n",
       "      <td>-0.026647</td>\n",
       "      <td>0.014865</td>\n",
       "    </tr>\n",
       "    <tr>\n",
       "      <th>Accident_Type_Code</th>\n",
       "      <td>0.018977</td>\n",
       "      <td>0.173930</td>\n",
       "      <td>-0.024718</td>\n",
       "      <td>0.034927</td>\n",
       "      <td>0.008385</td>\n",
       "      <td>-0.007565</td>\n",
       "      <td>0.030682</td>\n",
       "      <td>1.000000</td>\n",
       "      <td>0.019970</td>\n",
       "      <td>0.046379</td>\n",
       "      <td>-0.739361</td>\n",
       "      <td>-0.012278</td>\n",
       "    </tr>\n",
       "    <tr>\n",
       "      <th>Max_Elevation</th>\n",
       "      <td>-0.019331</td>\n",
       "      <td>0.004451</td>\n",
       "      <td>0.000183</td>\n",
       "      <td>0.036855</td>\n",
       "      <td>-0.028375</td>\n",
       "      <td>0.047625</td>\n",
       "      <td>-0.009186</td>\n",
       "      <td>0.019970</td>\n",
       "      <td>1.000000</td>\n",
       "      <td>-0.030513</td>\n",
       "      <td>0.173436</td>\n",
       "      <td>0.008576</td>\n",
       "    </tr>\n",
       "    <tr>\n",
       "      <th>Violations</th>\n",
       "      <td>0.004590</td>\n",
       "      <td>0.041735</td>\n",
       "      <td>-0.016724</td>\n",
       "      <td>-0.019005</td>\n",
       "      <td>-0.003284</td>\n",
       "      <td>0.013171</td>\n",
       "      <td>0.018619</td>\n",
       "      <td>0.046379</td>\n",
       "      <td>-0.030513</td>\n",
       "      <td>1.000000</td>\n",
       "      <td>-0.021578</td>\n",
       "      <td>-0.002047</td>\n",
       "    </tr>\n",
       "    <tr>\n",
       "      <th>Adverse_Weather_Metric</th>\n",
       "      <td>0.029530</td>\n",
       "      <td>-0.107925</td>\n",
       "      <td>0.040804</td>\n",
       "      <td>-0.002713</td>\n",
       "      <td>-0.028296</td>\n",
       "      <td>0.039802</td>\n",
       "      <td>-0.026647</td>\n",
       "      <td>-0.739361</td>\n",
       "      <td>0.173436</td>\n",
       "      <td>-0.021578</td>\n",
       "      <td>1.000000</td>\n",
       "      <td>0.008586</td>\n",
       "    </tr>\n",
       "    <tr>\n",
       "      <th>Accident_ID</th>\n",
       "      <td>0.001033</td>\n",
       "      <td>-0.001334</td>\n",
       "      <td>0.000582</td>\n",
       "      <td>0.004527</td>\n",
       "      <td>0.006481</td>\n",
       "      <td>-0.014396</td>\n",
       "      <td>0.014865</td>\n",
       "      <td>-0.012278</td>\n",
       "      <td>0.008576</td>\n",
       "      <td>-0.002047</td>\n",
       "      <td>0.008586</td>\n",
       "      <td>1.000000</td>\n",
       "    </tr>\n",
       "  </tbody>\n",
       "</table>\n",
       "</div>"
      ],
      "text/plain": [
       "                         Severity  ...  Accident_ID\n",
       "Severity                 1.000000  ...     0.001033\n",
       "Safety_Score            -0.308136  ...    -0.001334\n",
       "Days_Since_Inspection   -0.033429  ...     0.000582\n",
       "Total_Safety_Complaints -0.026801  ...     0.004527\n",
       "Control_Metric           0.013701  ...     0.006481\n",
       "Turbulence_In_gforces   -0.031615  ...    -0.014396\n",
       "Cabin_Temperature        0.019172  ...     0.014865\n",
       "Accident_Type_Code       0.018977  ...    -0.012278\n",
       "Max_Elevation           -0.019331  ...     0.008576\n",
       "Violations               0.004590  ...    -0.002047\n",
       "Adverse_Weather_Metric   0.029530  ...     0.008586\n",
       "Accident_ID              0.001033  ...     1.000000\n",
       "\n",
       "[12 rows x 12 columns]"
      ]
     },
     "execution_count": 14,
     "metadata": {
      "tags": []
     },
     "output_type": "execute_result"
    }
   ],
   "source": [
    "df.corr()"
   ]
  },
  {
   "cell_type": "markdown",
   "metadata": {
    "colab_type": "text",
    "id": "LbLUnRWYDVJg"
   },
   "source": [
    "By the ppscore we can see that almost all the columns are quite except \"Accident_Type_Code\".<p>\n",
    "    Which is quite evident as if we think, the type of accident can't generally define it's severity.<p>\n",
    "        For instance, lets suppose there is a category as landing accidents. Now we know that landing accidents can be as minor as getting an object crashed into airplane's engine which can cause malfuntion in one of the engine to a  to an absolute blast in the aircraft if we're landing forcefully.\n",
    "    "
   ]
  },
  {
   "cell_type": "markdown",
   "metadata": {
    "colab_type": "text",
    "id": "SXn3UFAuDg6R"
   },
   "source": [
    "**Please do note that I have not plotted any graphs to generate insights, only because in this dataset the relations were pretty evident by the ppscore and there were very less number of columns, so it wasn't necessary. \n",
    "If you want to check my proficiency in matpotlib or seaborn, please do check my github profile where I have showcased my work on matplotlib and seaborn.**<p>\n",
    "    https://github.com/SandeepanMahapatra"
   ]
  },
  {
   "cell_type": "code",
   "execution_count": 29,
   "metadata": {
    "colab": {
     "base_uri": "https://localhost:8080/",
     "height": 100
    },
    "colab_type": "code",
    "executionInfo": {
     "elapsed": 1458,
     "status": "ok",
     "timestamp": 1595078988178,
     "user": {
      "displayName": "Sandeepan Mahapatra",
      "photoUrl": "https://lh3.googleusercontent.com/a-/AOh14GghtcDTAgQfqAjPJCkZ40E8sQlL6QPin3iA6o5mRg=s64",
      "userId": "14718539613734897749"
     },
     "user_tz": -330
    },
    "id": "dfnOrY6Osc9K",
    "outputId": "aa222c2c-9d06-4b57-b866-8a437e35ca24"
   },
   "outputs": [
    {
     "data": {
      "text/plain": [
       "Index(['Severity', 'Safety_Score', 'Days_Since_Inspection',\n",
       "       'Total_Safety_Complaints', 'Control_Metric', 'Turbulence_In_gforces',\n",
       "       'Cabin_Temperature', 'Accident_Type_Code', 'Max_Elevation',\n",
       "       'Violations', 'Adverse_Weather_Metric', 'Accident_ID'],\n",
       "      dtype='object')"
      ]
     },
     "execution_count": 29,
     "metadata": {
      "tags": []
     },
     "output_type": "execute_result"
    }
   ],
   "source": [
    "df.columns"
   ]
  },
  {
   "cell_type": "markdown",
   "metadata": {
    "colab_type": "text",
    "id": "joFqeVxMDqyb"
   },
   "source": [
    "Dropped the output label and the columns which aren't useful for prediction."
   ]
  },
  {
   "cell_type": "code",
   "execution_count": 16,
   "metadata": {
    "colab": {},
    "colab_type": "code",
    "executionInfo": {
     "elapsed": 1474,
     "status": "ok",
     "timestamp": 1595076907767,
     "user": {
      "displayName": "Sandeepan Mahapatra",
      "photoUrl": "https://lh3.googleusercontent.com/a-/AOh14GghtcDTAgQfqAjPJCkZ40E8sQlL6QPin3iA6o5mRg=s64",
      "userId": "14718539613734897749"
     },
     "user_tz": -330
    },
    "id": "TZn49z40sgMX"
   },
   "outputs": [],
   "source": [
    "X = df.drop(['Severity', 'Accident_ID','Accident_Type_Code'], axis=1)"
   ]
  },
  {
   "cell_type": "markdown",
   "metadata": {
    "colab_type": "text",
    "id": "v2Uu25ErDsCM"
   },
   "source": [
    "y is output label"
   ]
  },
  {
   "cell_type": "code",
   "execution_count": 17,
   "metadata": {
    "colab": {},
    "colab_type": "code",
    "executionInfo": {
     "elapsed": 1471,
     "status": "ok",
     "timestamp": 1595076907768,
     "user": {
      "displayName": "Sandeepan Mahapatra",
      "photoUrl": "https://lh3.googleusercontent.com/a-/AOh14GghtcDTAgQfqAjPJCkZ40E8sQlL6QPin3iA6o5mRg=s64",
      "userId": "14718539613734897749"
     },
     "user_tz": -330
    },
    "id": "X8SBnL81siUg"
   },
   "outputs": [],
   "source": [
    "y=df['Severity']"
   ]
  },
  {
   "cell_type": "markdown",
   "metadata": {
    "colab_type": "text",
    "id": "BHZRXkKXHgQN"
   },
   "source": [
    "## Using lazypredict"
   ]
  },
  {
   "cell_type": "code",
   "execution_count": 18,
   "metadata": {
    "colab": {},
    "colab_type": "code",
    "executionInfo": {
     "elapsed": 1467,
     "status": "ok",
     "timestamp": 1595076907769,
     "user": {
      "displayName": "Sandeepan Mahapatra",
      "photoUrl": "https://lh3.googleusercontent.com/a-/AOh14GghtcDTAgQfqAjPJCkZ40E8sQlL6QPin3iA6o5mRg=s64",
      "userId": "14718539613734897749"
     },
     "user_tz": -330
    },
    "id": "SOFLVwm5skm6"
   },
   "outputs": [],
   "source": [
    "import lazypredict\n",
    "import sys"
   ]
  },
  {
   "cell_type": "code",
   "execution_count": 19,
   "metadata": {
    "colab": {
     "base_uri": "https://localhost:8080/",
     "height": 982
    },
    "colab_type": "code",
    "executionInfo": {
     "elapsed": 26353,
     "status": "ok",
     "timestamp": 1595076932672,
     "user": {
      "displayName": "Sandeepan Mahapatra",
      "photoUrl": "https://lh3.googleusercontent.com/a-/AOh14GghtcDTAgQfqAjPJCkZ40E8sQlL6QPin3iA6o5mRg=s64",
      "userId": "14718539613734897749"
     },
     "user_tz": -330
    },
    "id": "lv1w6cCPsmLl",
    "outputId": "f7ac0a64-13e4-45bf-a89c-e2dbbf5d8f55"
   },
   "outputs": [
    {
     "name": "stderr",
     "output_type": "stream",
     "text": [
      "/usr/local/lib/python3.6/dist-packages/sklearn/utils/deprecation.py:144: FutureWarning: The sklearn.utils.testing module is  deprecated in version 0.22 and will be removed in version 0.24. The corresponding classes / functions should instead be imported from sklearn.utils. Anything that cannot be imported from sklearn.utils is now part of the private API.\n",
      "  warnings.warn(message, FutureWarning)\n",
      "100%|██████████| 30/30 [00:23<00:00,  1.26it/s]\n"
     ]
    },
    {
     "data": {
      "text/html": [
       "<div>\n",
       "<style scoped>\n",
       "    .dataframe tbody tr th:only-of-type {\n",
       "        vertical-align: middle;\n",
       "    }\n",
       "\n",
       "    .dataframe tbody tr th {\n",
       "        vertical-align: top;\n",
       "    }\n",
       "\n",
       "    .dataframe thead th {\n",
       "        text-align: right;\n",
       "    }\n",
       "</style>\n",
       "<table border=\"1\" class=\"dataframe\">\n",
       "  <thead>\n",
       "    <tr style=\"text-align: right;\">\n",
       "      <th></th>\n",
       "      <th>Accuracy</th>\n",
       "      <th>Balanced Accuracy</th>\n",
       "      <th>ROC AUC</th>\n",
       "      <th>F1 Score</th>\n",
       "      <th>Time Taken</th>\n",
       "    </tr>\n",
       "    <tr>\n",
       "      <th>Model</th>\n",
       "      <th></th>\n",
       "      <th></th>\n",
       "      <th></th>\n",
       "      <th></th>\n",
       "      <th></th>\n",
       "    </tr>\n",
       "  </thead>\n",
       "  <tbody>\n",
       "    <tr>\n",
       "      <th>LGBMClassifier</th>\n",
       "      <td>0.95</td>\n",
       "      <td>0.95</td>\n",
       "      <td>None</td>\n",
       "      <td>0.95</td>\n",
       "      <td>0.99</td>\n",
       "    </tr>\n",
       "    <tr>\n",
       "      <th>RandomForestClassifier</th>\n",
       "      <td>0.95</td>\n",
       "      <td>0.95</td>\n",
       "      <td>None</td>\n",
       "      <td>0.95</td>\n",
       "      <td>1.38</td>\n",
       "    </tr>\n",
       "    <tr>\n",
       "      <th>BaggingClassifier</th>\n",
       "      <td>0.94</td>\n",
       "      <td>0.94</td>\n",
       "      <td>None</td>\n",
       "      <td>0.94</td>\n",
       "      <td>0.29</td>\n",
       "    </tr>\n",
       "    <tr>\n",
       "      <th>ExtraTreesClassifier</th>\n",
       "      <td>0.93</td>\n",
       "      <td>0.92</td>\n",
       "      <td>None</td>\n",
       "      <td>0.93</td>\n",
       "      <td>0.79</td>\n",
       "    </tr>\n",
       "    <tr>\n",
       "      <th>DecisionTreeClassifier</th>\n",
       "      <td>0.92</td>\n",
       "      <td>0.92</td>\n",
       "      <td>None</td>\n",
       "      <td>0.92</td>\n",
       "      <td>0.06</td>\n",
       "    </tr>\n",
       "    <tr>\n",
       "      <th>SVC</th>\n",
       "      <td>0.87</td>\n",
       "      <td>0.88</td>\n",
       "      <td>None</td>\n",
       "      <td>0.87</td>\n",
       "      <td>1.81</td>\n",
       "    </tr>\n",
       "    <tr>\n",
       "      <th>XGBClassifier</th>\n",
       "      <td>0.84</td>\n",
       "      <td>0.84</td>\n",
       "      <td>None</td>\n",
       "      <td>0.84</td>\n",
       "      <td>1.45</td>\n",
       "    </tr>\n",
       "    <tr>\n",
       "      <th>NuSVC</th>\n",
       "      <td>0.83</td>\n",
       "      <td>0.82</td>\n",
       "      <td>None</td>\n",
       "      <td>0.83</td>\n",
       "      <td>2.69</td>\n",
       "    </tr>\n",
       "    <tr>\n",
       "      <th>QuadraticDiscriminantAnalysis</th>\n",
       "      <td>0.81</td>\n",
       "      <td>0.81</td>\n",
       "      <td>None</td>\n",
       "      <td>0.81</td>\n",
       "      <td>0.03</td>\n",
       "    </tr>\n",
       "    <tr>\n",
       "      <th>ExtraTreeClassifier</th>\n",
       "      <td>0.71</td>\n",
       "      <td>0.71</td>\n",
       "      <td>None</td>\n",
       "      <td>0.71</td>\n",
       "      <td>0.03</td>\n",
       "    </tr>\n",
       "    <tr>\n",
       "      <th>KNeighborsClassifier</th>\n",
       "      <td>0.67</td>\n",
       "      <td>0.67</td>\n",
       "      <td>None</td>\n",
       "      <td>0.68</td>\n",
       "      <td>0.35</td>\n",
       "    </tr>\n",
       "    <tr>\n",
       "      <th>LabelPropagation</th>\n",
       "      <td>0.66</td>\n",
       "      <td>0.66</td>\n",
       "      <td>None</td>\n",
       "      <td>0.66</td>\n",
       "      <td>2.10</td>\n",
       "    </tr>\n",
       "    <tr>\n",
       "      <th>LabelSpreading</th>\n",
       "      <td>0.66</td>\n",
       "      <td>0.66</td>\n",
       "      <td>None</td>\n",
       "      <td>0.66</td>\n",
       "      <td>2.99</td>\n",
       "    </tr>\n",
       "    <tr>\n",
       "      <th>LinearDiscriminantAnalysis</th>\n",
       "      <td>0.61</td>\n",
       "      <td>0.55</td>\n",
       "      <td>None</td>\n",
       "      <td>0.58</td>\n",
       "      <td>0.07</td>\n",
       "    </tr>\n",
       "    <tr>\n",
       "      <th>LogisticRegression</th>\n",
       "      <td>0.61</td>\n",
       "      <td>0.55</td>\n",
       "      <td>None</td>\n",
       "      <td>0.57</td>\n",
       "      <td>0.07</td>\n",
       "    </tr>\n",
       "    <tr>\n",
       "      <th>CalibratedClassifierCV</th>\n",
       "      <td>0.59</td>\n",
       "      <td>0.53</td>\n",
       "      <td>None</td>\n",
       "      <td>0.55</td>\n",
       "      <td>6.13</td>\n",
       "    </tr>\n",
       "    <tr>\n",
       "      <th>SGDClassifier</th>\n",
       "      <td>0.56</td>\n",
       "      <td>0.51</td>\n",
       "      <td>None</td>\n",
       "      <td>0.53</td>\n",
       "      <td>0.18</td>\n",
       "    </tr>\n",
       "    <tr>\n",
       "      <th>LinearSVC</th>\n",
       "      <td>0.53</td>\n",
       "      <td>0.47</td>\n",
       "      <td>None</td>\n",
       "      <td>0.49</td>\n",
       "      <td>1.71</td>\n",
       "    </tr>\n",
       "    <tr>\n",
       "      <th>AdaBoostClassifier</th>\n",
       "      <td>0.52</td>\n",
       "      <td>0.47</td>\n",
       "      <td>None</td>\n",
       "      <td>0.48</td>\n",
       "      <td>0.46</td>\n",
       "    </tr>\n",
       "    <tr>\n",
       "      <th>NearestCentroid</th>\n",
       "      <td>0.44</td>\n",
       "      <td>0.44</td>\n",
       "      <td>None</td>\n",
       "      <td>0.45</td>\n",
       "      <td>0.02</td>\n",
       "    </tr>\n",
       "    <tr>\n",
       "      <th>RidgeClassifierCV</th>\n",
       "      <td>0.49</td>\n",
       "      <td>0.43</td>\n",
       "      <td>None</td>\n",
       "      <td>0.43</td>\n",
       "      <td>0.03</td>\n",
       "    </tr>\n",
       "    <tr>\n",
       "      <th>RidgeClassifier</th>\n",
       "      <td>0.49</td>\n",
       "      <td>0.43</td>\n",
       "      <td>None</td>\n",
       "      <td>0.43</td>\n",
       "      <td>0.03</td>\n",
       "    </tr>\n",
       "    <tr>\n",
       "      <th>Perceptron</th>\n",
       "      <td>0.42</td>\n",
       "      <td>0.42</td>\n",
       "      <td>None</td>\n",
       "      <td>0.42</td>\n",
       "      <td>0.04</td>\n",
       "    </tr>\n",
       "    <tr>\n",
       "      <th>GaussianNB</th>\n",
       "      <td>0.44</td>\n",
       "      <td>0.42</td>\n",
       "      <td>None</td>\n",
       "      <td>0.43</td>\n",
       "      <td>0.03</td>\n",
       "    </tr>\n",
       "    <tr>\n",
       "      <th>BernoulliNB</th>\n",
       "      <td>0.41</td>\n",
       "      <td>0.37</td>\n",
       "      <td>None</td>\n",
       "      <td>0.39</td>\n",
       "      <td>0.03</td>\n",
       "    </tr>\n",
       "    <tr>\n",
       "      <th>PassiveAggressiveClassifier</th>\n",
       "      <td>0.36</td>\n",
       "      <td>0.35</td>\n",
       "      <td>None</td>\n",
       "      <td>0.36</td>\n",
       "      <td>0.05</td>\n",
       "    </tr>\n",
       "    <tr>\n",
       "      <th>DummyClassifier</th>\n",
       "      <td>0.27</td>\n",
       "      <td>0.26</td>\n",
       "      <td>None</td>\n",
       "      <td>0.27</td>\n",
       "      <td>0.02</td>\n",
       "    </tr>\n",
       "    <tr>\n",
       "      <th>CheckingClassifier</th>\n",
       "      <td>0.25</td>\n",
       "      <td>0.25</td>\n",
       "      <td>None</td>\n",
       "      <td>0.10</td>\n",
       "      <td>0.02</td>\n",
       "    </tr>\n",
       "  </tbody>\n",
       "</table>\n",
       "</div>"
      ],
      "text/plain": [
       "                               Accuracy  ...  Time Taken\n",
       "Model                                    ...            \n",
       "LGBMClassifier                     0.95  ...        0.99\n",
       "RandomForestClassifier             0.95  ...        1.38\n",
       "BaggingClassifier                  0.94  ...        0.29\n",
       "ExtraTreesClassifier               0.93  ...        0.79\n",
       "DecisionTreeClassifier             0.92  ...        0.06\n",
       "SVC                                0.87  ...        1.81\n",
       "XGBClassifier                      0.84  ...        1.45\n",
       "NuSVC                              0.83  ...        2.69\n",
       "QuadraticDiscriminantAnalysis      0.81  ...        0.03\n",
       "ExtraTreeClassifier                0.71  ...        0.03\n",
       "KNeighborsClassifier               0.67  ...        0.35\n",
       "LabelPropagation                   0.66  ...        2.10\n",
       "LabelSpreading                     0.66  ...        2.99\n",
       "LinearDiscriminantAnalysis         0.61  ...        0.07\n",
       "LogisticRegression                 0.61  ...        0.07\n",
       "CalibratedClassifierCV             0.59  ...        6.13\n",
       "SGDClassifier                      0.56  ...        0.18\n",
       "LinearSVC                          0.53  ...        1.71\n",
       "AdaBoostClassifier                 0.52  ...        0.46\n",
       "NearestCentroid                    0.44  ...        0.02\n",
       "RidgeClassifierCV                  0.49  ...        0.03\n",
       "RidgeClassifier                    0.49  ...        0.03\n",
       "Perceptron                         0.42  ...        0.04\n",
       "GaussianNB                         0.44  ...        0.03\n",
       "BernoulliNB                        0.41  ...        0.03\n",
       "PassiveAggressiveClassifier        0.36  ...        0.05\n",
       "DummyClassifier                    0.27  ...        0.02\n",
       "CheckingClassifier                 0.25  ...        0.02\n",
       "\n",
       "[28 rows x 5 columns]"
      ]
     },
     "execution_count": 19,
     "metadata": {
      "tags": []
     },
     "output_type": "execute_result"
    }
   ],
   "source": [
    "from lazypredict.Supervised import LazyClassifier\n",
    "from sklearn.model_selection import train_test_split\n",
    "\n",
    "X_train, X_test, y_train, y_test = train_test_split(X, y,test_size=.4,random_state =23)\n",
    "clf = LazyClassifier(verbose=0,ignore_warnings=True, custom_metric=None)\n",
    "models,predictions = clf.fit(X_train, X_test, y_train, y_test)\n",
    "models"
   ]
  },
  {
   "cell_type": "markdown",
   "metadata": {
    "colab_type": "text",
    "id": "r25-YlcTD53U"
   },
   "source": [
    "As we can see that LGBMClassifier outshines every other model. I have selected that. Random Forest performance is almost the same but I wanted to go with something new."
   ]
  },
  {
   "cell_type": "markdown",
   "metadata": {
    "colab_type": "text",
    "id": "FWJgF-qmHpJM"
   },
   "source": [
    "## Model fitting"
   ]
  },
  {
   "cell_type": "code",
   "execution_count": 21,
   "metadata": {
    "colab": {},
    "colab_type": "code",
    "executionInfo": {
     "elapsed": 26331,
     "status": "ok",
     "timestamp": 1595076932675,
     "user": {
      "displayName": "Sandeepan Mahapatra",
      "photoUrl": "https://lh3.googleusercontent.com/a-/AOh14GghtcDTAgQfqAjPJCkZ40E8sQlL6QPin3iA6o5mRg=s64",
      "userId": "14718539613734897749"
     },
     "user_tz": -330
    },
    "id": "2pA7ERR-t35T"
   },
   "outputs": [],
   "source": [
    "from sklearn import *\n",
    "from lightgbm import LGBMClassifier\n",
    "import time\n",
    "from sklearn.metrics import accuracy_score\n",
    "from sklearn.metrics import roc_auc_score\n",
    "from sklearn.metrics import confusion_matrix"
   ]
  },
  {
   "cell_type": "markdown",
   "metadata": {
    "colab_type": "text",
    "id": "OskU5nR7EW9C"
   },
   "source": [
    "I have performed hyperparameter tuning by experimenting with different values. I am still learning about hyperparameter tuning so I had to experiment different values for now."
   ]
  },
  {
   "cell_type": "code",
   "execution_count": 22,
   "metadata": {
    "colab": {},
    "colab_type": "code",
    "executionInfo": {
     "elapsed": 26329,
     "status": "ok",
     "timestamp": 1595076932676,
     "user": {
      "displayName": "Sandeepan Mahapatra",
      "photoUrl": "https://lh3.googleusercontent.com/a-/AOh14GghtcDTAgQfqAjPJCkZ40E8sQlL6QPin3iA6o5mRg=s64",
      "userId": "14718539613734897749"
     },
     "user_tz": -330
    },
    "id": "rWHrmH5Ksnze"
   },
   "outputs": [],
   "source": [
    "lgb = LGBMClassifier(\n",
    "    objective='binary',\n",
    "    boosting='gbdt',\n",
    "    learning_rate = 0.05,\n",
    "    max_depth = 8,\n",
    "    num_leaves = 80,\n",
    "    n_estimators = 400,\n",
    "    bagging_fraction = 0.8,\n",
    "    feature_fraction = 0.9)"
   ]
  },
  {
   "cell_type": "code",
   "execution_count": 23,
   "metadata": {
    "colab": {
     "base_uri": "https://localhost:8080/",
     "height": 67
    },
    "colab_type": "code",
    "executionInfo": {
     "elapsed": 30097,
     "status": "ok",
     "timestamp": 1595076936466,
     "user": {
      "displayName": "Sandeepan Mahapatra",
      "photoUrl": "https://lh3.googleusercontent.com/a-/AOh14GghtcDTAgQfqAjPJCkZ40E8sQlL6QPin3iA6o5mRg=s64",
      "userId": "14718539613734897749"
     },
     "user_tz": -330
    },
    "id": "_1I0O8MDuH_y",
    "outputId": "652f25aa-2463-45b5-a262-f449e4bb4f79"
   },
   "outputs": [
    {
     "name": "stdout",
     "output_type": "stream",
     "text": [
      "Fitting Up\n",
      "Done\n",
      "Done, time = 3.7168915271759033\n"
     ]
    }
   ],
   "source": [
    "t = time.time()\n",
    "print('Fitting Up')\n",
    "lgb.fit(X_train,y_train)\n",
    "print('Done')\n",
    "print(f'Done, time = {time.time() - t}')"
   ]
  },
  {
   "cell_type": "code",
   "execution_count": 24,
   "metadata": {
    "colab": {},
    "colab_type": "code",
    "executionInfo": {
     "elapsed": 30754,
     "status": "ok",
     "timestamp": 1595076937129,
     "user": {
      "displayName": "Sandeepan Mahapatra",
      "photoUrl": "https://lh3.googleusercontent.com/a-/AOh14GghtcDTAgQfqAjPJCkZ40E8sQlL6QPin3iA6o5mRg=s64",
      "userId": "14718539613734897749"
     },
     "user_tz": -330
    },
    "id": "nqyf36QEXc7i"
   },
   "outputs": [],
   "source": [
    "pred=lgb.predict(X_test)"
   ]
  },
  {
   "cell_type": "markdown",
   "metadata": {
    "colab_type": "text",
    "id": "nptytQ2lIQCP"
   },
   "source": [
    "#Evaluation Metrics"
   ]
  },
  {
   "cell_type": "markdown",
   "metadata": {
    "colab_type": "text",
    "id": "2cPFJYAPIUBm"
   },
   "source": [
    "##Accuracy on test set"
   ]
  },
  {
   "cell_type": "code",
   "execution_count": 25,
   "metadata": {
    "colab": {
     "base_uri": "https://localhost:8080/",
     "height": 33
    },
    "colab_type": "code",
    "executionInfo": {
     "elapsed": 33533,
     "status": "ok",
     "timestamp": 1595076939923,
     "user": {
      "displayName": "Sandeepan Mahapatra",
      "photoUrl": "https://lh3.googleusercontent.com/a-/AOh14GghtcDTAgQfqAjPJCkZ40E8sQlL6QPin3iA6o5mRg=s64",
      "userId": "14718539613734897749"
     },
     "user_tz": -330
    },
    "id": "iv_GCi2vt4yO",
    "outputId": "38d47c11-a900-4092-8e23-a82e1c0ac56c"
   },
   "outputs": [
    {
     "name": "stdout",
     "output_type": "stream",
     "text": [
      "lgb accuracy : 0.961000\n"
     ]
    }
   ],
   "source": [
    "print(\"lgb accuracy : %f\" % \\\n",
    "      accuracy_score(lgb.predict(X_test),\n",
    "                     y_test))"
   ]
  },
  {
   "cell_type": "markdown",
   "metadata": {
    "colab_type": "text",
    "id": "dlAdPffVIZG_"
   },
   "source": [
    "##Confusion Matrix"
   ]
  },
  {
   "cell_type": "code",
   "execution_count": 26,
   "metadata": {
    "colab": {
     "base_uri": "https://localhost:8080/",
     "height": 475
    },
    "colab_type": "code",
    "executionInfo": {
     "elapsed": 33519,
     "status": "ok",
     "timestamp": 1595076939926,
     "user": {
      "displayName": "Sandeepan Mahapatra",
      "photoUrl": "https://lh3.googleusercontent.com/a-/AOh14GghtcDTAgQfqAjPJCkZ40E8sQlL6QPin3iA6o5mRg=s64",
      "userId": "14718539613734897749"
     },
     "user_tz": -330
    },
    "id": "U72ug3c1XQz3",
    "outputId": "f6fa9621-f282-4c74-8274-0c6bf9931f08"
   },
   "outputs": [
    {
     "data": {
      "text/plain": [
       "<matplotlib.axes._subplots.AxesSubplot at 0x7f5c6ced0908>"
      ]
     },
     "execution_count": 26,
     "metadata": {
      "tags": []
     },
     "output_type": "execute_result"
    },
    {
     "data": {
      "image/png": "[encoded data removed]",
      "text/plain": [
       "<Figure size 720x504 with 2 Axes>"
      ]
     },
     "metadata": {
      "needs_background": "light",
      "tags": []
     },
     "output_type": "display_data"
    }
   ],
   "source": [
    "data = confusion_matrix(y_test,pred)\n",
    "df_cm = pd.DataFrame(data, columns=np.unique(y_test), index = np.unique(y_test))\n",
    "df_cm.index.name = 'Actual'\n",
    "df_cm.columns.name = 'Predicted'\n",
    "plt.figure(figsize = (10,7))\n",
    "sns.set(font_scale=1.4)#for label size\n",
    "sns.heatmap(df_cm, cmap=\"Blues\", annot=True,annot_kws={\"size\": 16})"
   ]
  },
  {
   "cell_type": "markdown",
   "metadata": {
    "colab_type": "text",
    "id": "UZvsNAidIdio"
   },
   "source": [
    "##F1 Score"
   ]
  },
  {
   "cell_type": "code",
   "execution_count": 27,
   "metadata": {
    "colab": {
     "base_uri": "https://localhost:8080/",
     "height": 33
    },
    "colab_type": "code",
    "executionInfo": {
     "elapsed": 33504,
     "status": "ok",
     "timestamp": 1595076939928,
     "user": {
      "displayName": "Sandeepan Mahapatra",
      "photoUrl": "https://lh3.googleusercontent.com/a-/AOh14GghtcDTAgQfqAjPJCkZ40E8sQlL6QPin3iA6o5mRg=s64",
      "userId": "14718539613734897749"
     },
     "user_tz": -330
    },
    "id": "aspzZKdeYeeT",
    "outputId": "a55b3851-7e5c-472a-ba08-7b16a9447490"
   },
   "outputs": [
    {
     "data": {
      "text/plain": [
       "0.9604714939273673"
      ]
     },
     "execution_count": 27,
     "metadata": {
      "tags": []
     },
     "output_type": "execute_result"
    }
   ],
   "source": [
    "from sklearn.metrics import f1_score\n",
    "f1_score(y_test, pred,average='macro')"
   ]
  }
 ],
 "metadata": {
  "colab": {
   "authorship_tag": "ABX9TyNjIFNmw1U/OfmxE27BOI99",
   "name": "Airplane Severity Dataset.ipynb",
   "provenance": []
  },
  "kernelspec": {
   "display_name": "Python 3",
   "language": "python",
   "name": "python3"
  },
  "language_info": {
   "codemirror_mode": {
    "name": "ipython",
    "version": 3
   },
   "file_extension": ".py",
   "mimetype": "text/x-python",
   "name": "python",
   "nbconvert_exporter": "python",
   "pygments_lexer": "ipython3",
   "version": "3.7.1"
  }
 },
 "nbformat": 4,
 "nbformat_minor": 1
}
